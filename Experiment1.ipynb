{
 "cells": [
  {
   "cell_type": "markdown",
   "id": "0dbaee4f-de7f-4cc0-84b5-c65e7dec4a8b",
   "metadata": {},
   "source": [
    "### ALPHABET SOUP PROBLEM"
   ]
  },
  {
   "cell_type": "code",
   "execution_count": 22,
   "id": "de7199fd-4622-44e4-9f8f-068924e682af",
   "metadata": {},
   "outputs": [],
   "source": [
    "def string(S):\n",
    "    #convert the string to list of characters\n",
    "    char_list = list(S)\n",
    "    #sorting of characters\n",
    "    char_list.sort()\n",
    "    #join the sorted list back to string\n",
    "    sorted_string = ''.join(char_list)\n",
    "    return sorted_string"
   ]
  },
  {
   "cell_type": "code",
   "execution_count": 24,
   "id": "cc3d84ed-e1f8-43b9-a085-30ad007cce16",
   "metadata": {},
   "outputs": [
    {
     "name": "stdout",
     "output_type": "stream",
     "text": [
      "enoz\n"
     ]
    }
   ],
   "source": [
    "input = \"enzo\"\n",
    "sorted_string = sort_string(input)\n",
    "print(sorted_string)  # Output"
   ]
  },
  {
   "cell_type": "markdown",
   "id": "78ed017d-a847-4528-bb2f-20aa317ed1dd",
   "metadata": {},
   "source": [
    "### EMOTICON PROBLEM"
   ]
  },
  {
   "cell_type": "code",
   "execution_count": 56,
   "id": "e171f87b-f3ce-42f2-9550-74d72b99cdba",
   "metadata": {},
   "outputs": [],
   "source": [
    "#Defining words to emoticon\n",
    "def change_to_emoticons(sentence):\n",
    "    conversion = {\n",
    "        \"smile\": \":)\",\n",
    "        \"grin\": \":D\",\n",
    "        \"sad\": \":(\",\n",
    "        \"mad\": \">:(\"\n",
    "    }\n",
    "    \n",
    "    #replace the given words with their emoticon\n",
    "    for word, emoticon in conversion.items():\n",
    "        sentence = sentence.replace(word, emoticon)\n",
    "    \n",
    "    return sentence"
   ]
  },
  {
   "cell_type": "code",
   "execution_count": 58,
   "id": "56717975-0473-4591-a75e-fa913f678140",
   "metadata": {},
   "outputs": [
    {
     "name": "stdout",
     "output_type": "stream",
     "text": [
      "This makes me >:( and :(\n"
     ]
    }
   ],
   "source": [
    "sentence = \"This makes me mad and sad\"\n",
    "new_sentence = change_to_emoticons(sentence)\n",
    "print(new_sentence)  # Output"
   ]
  },
  {
   "cell_type": "markdown",
   "id": "526f78a4-ad4d-4a80-9fd0-20661a3d8cd9",
   "metadata": {},
   "source": [
    "### UNPACKING LIST PROBLEM"
   ]
  },
  {
   "cell_type": "code",
   "execution_count": 61,
   "id": "4f66644d-b3f5-43f4-9193-4ade47982f09",
   "metadata": {},
   "outputs": [],
   "source": [
    "#given list\n",
    "writeyourcodehere = [1, 2, 3, 4, 5, 6]\n",
    "\n",
    "#getting the first element\n",
    "first = writeyourcodehere[0]\n",
    "\n",
    "#getting the last element\n",
    "last = writeyourcodehere[-1]\n",
    "\n",
    "#getting the middle element\n",
    "middle = writeyourcodehere[1:-1]"
   ]
  },
  {
   "cell_type": "code",
   "execution_count": 67,
   "id": "48dfbb61-198f-40a0-bc29-e789b46706ff",
   "metadata": {},
   "outputs": [
    {
     "name": "stdout",
     "output_type": "stream",
     "text": [
      "First:  1\n",
      "Middle:  [2, 3, 4, 5]\n",
      "Last 6\n"
     ]
    }
   ],
   "source": [
    "#The output sheesh\n",
    "print(\"First: \", first)\n",
    "print(\"Middle: \", middle)\n",
    "print(\"Last\", last)"
   ]
  }
 ],
 "metadata": {
  "kernelspec": {
   "display_name": "Python 3 (ipykernel)",
   "language": "python",
   "name": "python3"
  },
  "language_info": {
   "codemirror_mode": {
    "name": "ipython",
    "version": 3
   },
   "file_extension": ".py",
   "mimetype": "text/x-python",
   "name": "python",
   "nbconvert_exporter": "python",
   "pygments_lexer": "ipython3",
   "version": "3.12.4"
  }
 },
 "nbformat": 4,
 "nbformat_minor": 5
}
